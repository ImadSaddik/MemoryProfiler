{
 "cells": [
  {
   "cell_type": "markdown",
   "metadata": {},
   "source": [
    "## Generate a random Excel file"
   ]
  },
  {
   "cell_type": "code",
   "execution_count": null,
   "metadata": {},
   "outputs": [
    {
     "data": {
      "application/vnd.microsoft.datawrangler.viewer.v0+json": {
       "columns": [
        {
         "name": "index",
         "rawType": "int64",
         "type": "integer"
        },
        {
         "name": "Column_1",
         "rawType": "int64",
         "type": "integer"
        },
        {
         "name": "Column_2",
         "rawType": "int64",
         "type": "integer"
        },
        {
         "name": "Column_3",
         "rawType": "int64",
         "type": "integer"
        },
        {
         "name": "Column_4",
         "rawType": "int64",
         "type": "integer"
        },
        {
         "name": "Column_5",
         "rawType": "int64",
         "type": "integer"
        },
        {
         "name": "Column_6",
         "rawType": "int64",
         "type": "integer"
        },
        {
         "name": "Column_7",
         "rawType": "int64",
         "type": "integer"
        },
        {
         "name": "Column_8",
         "rawType": "int64",
         "type": "integer"
        },
        {
         "name": "Column_9",
         "rawType": "int64",
         "type": "integer"
        },
        {
         "name": "Column_10",
         "rawType": "int64",
         "type": "integer"
        }
       ],
       "conversionMethod": "pd.DataFrame",
       "ref": "11c89049-f932-43c4-8a53-d967a2093131",
       "rows": [
        [
         "0",
         "51",
         "92",
         "14",
         "71",
         "60",
         "20",
         "82",
         "86",
         "74",
         "74"
        ],
        [
         "1",
         "87",
         "99",
         "23",
         "2",
         "21",
         "52",
         "1",
         "87",
         "29",
         "37"
        ],
        [
         "2",
         "1",
         "63",
         "59",
         "20",
         "32",
         "75",
         "57",
         "21",
         "88",
         "48"
        ],
        [
         "3",
         "90",
         "58",
         "41",
         "91",
         "59",
         "79",
         "14",
         "61",
         "61",
         "46"
        ],
        [
         "4",
         "61",
         "50",
         "54",
         "63",
         "2",
         "50",
         "6",
         "20",
         "72",
         "38"
        ]
       ],
       "shape": {
        "columns": 10,
        "rows": 5
       }
      },
      "text/html": [
       "<div>\n",
       "<style scoped>\n",
       "    .dataframe tbody tr th:only-of-type {\n",
       "        vertical-align: middle;\n",
       "    }\n",
       "\n",
       "    .dataframe tbody tr th {\n",
       "        vertical-align: top;\n",
       "    }\n",
       "\n",
       "    .dataframe thead th {\n",
       "        text-align: right;\n",
       "    }\n",
       "</style>\n",
       "<table border=\"1\" class=\"dataframe\">\n",
       "  <thead>\n",
       "    <tr style=\"text-align: right;\">\n",
       "      <th></th>\n",
       "      <th>Column_1</th>\n",
       "      <th>Column_2</th>\n",
       "      <th>Column_3</th>\n",
       "      <th>Column_4</th>\n",
       "      <th>Column_5</th>\n",
       "      <th>Column_6</th>\n",
       "      <th>Column_7</th>\n",
       "      <th>Column_8</th>\n",
       "      <th>Column_9</th>\n",
       "      <th>Column_10</th>\n",
       "    </tr>\n",
       "  </thead>\n",
       "  <tbody>\n",
       "    <tr>\n",
       "      <th>0</th>\n",
       "      <td>51</td>\n",
       "      <td>92</td>\n",
       "      <td>14</td>\n",
       "      <td>71</td>\n",
       "      <td>60</td>\n",
       "      <td>20</td>\n",
       "      <td>82</td>\n",
       "      <td>86</td>\n",
       "      <td>74</td>\n",
       "      <td>74</td>\n",
       "    </tr>\n",
       "    <tr>\n",
       "      <th>1</th>\n",
       "      <td>87</td>\n",
       "      <td>99</td>\n",
       "      <td>23</td>\n",
       "      <td>2</td>\n",
       "      <td>21</td>\n",
       "      <td>52</td>\n",
       "      <td>1</td>\n",
       "      <td>87</td>\n",
       "      <td>29</td>\n",
       "      <td>37</td>\n",
       "    </tr>\n",
       "    <tr>\n",
       "      <th>2</th>\n",
       "      <td>1</td>\n",
       "      <td>63</td>\n",
       "      <td>59</td>\n",
       "      <td>20</td>\n",
       "      <td>32</td>\n",
       "      <td>75</td>\n",
       "      <td>57</td>\n",
       "      <td>21</td>\n",
       "      <td>88</td>\n",
       "      <td>48</td>\n",
       "    </tr>\n",
       "    <tr>\n",
       "      <th>3</th>\n",
       "      <td>90</td>\n",
       "      <td>58</td>\n",
       "      <td>41</td>\n",
       "      <td>91</td>\n",
       "      <td>59</td>\n",
       "      <td>79</td>\n",
       "      <td>14</td>\n",
       "      <td>61</td>\n",
       "      <td>61</td>\n",
       "      <td>46</td>\n",
       "    </tr>\n",
       "    <tr>\n",
       "      <th>4</th>\n",
       "      <td>61</td>\n",
       "      <td>50</td>\n",
       "      <td>54</td>\n",
       "      <td>63</td>\n",
       "      <td>2</td>\n",
       "      <td>50</td>\n",
       "      <td>6</td>\n",
       "      <td>20</td>\n",
       "      <td>72</td>\n",
       "      <td>38</td>\n",
       "    </tr>\n",
       "  </tbody>\n",
       "</table>\n",
       "</div>"
      ],
      "text/plain": [
       "   Column_1  Column_2  Column_3  Column_4  Column_5  Column_6  Column_7  \\\n",
       "0        51        92        14        71        60        20        82   \n",
       "1        87        99        23         2        21        52         1   \n",
       "2         1        63        59        20        32        75        57   \n",
       "3        90        58        41        91        59        79        14   \n",
       "4        61        50        54        63         2        50         6   \n",
       "\n",
       "   Column_8  Column_9  Column_10  \n",
       "0        86        74         74  \n",
       "1        87        29         37  \n",
       "2        21        88         48  \n",
       "3        61        61         46  \n",
       "4        20        72         38  "
      ]
     },
     "execution_count": 1,
     "metadata": {},
     "output_type": "execute_result"
    }
   ],
   "source": [
    "import numpy as np\n",
    "import pandas as pd\n",
    "\n",
    "np.random.seed(42)\n",
    "random_data = np.random.randint(0, 100, size=(10000, 10))\n",
    "\n",
    "df = pd.DataFrame(random_data, columns=[f'Column_{i+1}' for i in range(10)])\n",
    "df.head()"
   ]
  },
  {
   "cell_type": "code",
   "execution_count": 4,
   "metadata": {},
   "outputs": [],
   "source": [
    "output_path = 'data.xlsx'\n",
    "df.to_excel(output_path, index=False)"
   ]
  }
 ],
 "metadata": {
  "kernelspec": {
   "display_name": "arabicDiacriticsAgent",
   "language": "python",
   "name": "python3"
  },
  "language_info": {
   "codemirror_mode": {
    "name": "ipython",
    "version": 3
   },
   "file_extension": ".py",
   "mimetype": "text/x-python",
   "name": "python",
   "nbconvert_exporter": "python",
   "pygments_lexer": "ipython3",
   "version": "3.12.9"
  }
 },
 "nbformat": 4,
 "nbformat_minor": 2
}
